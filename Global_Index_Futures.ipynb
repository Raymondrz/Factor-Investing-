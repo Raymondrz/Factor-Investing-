{
  "nbformat": 4,
  "nbformat_minor": 0,
  "metadata": {
    "colab": {
      "name": "EquityIndexFutures.ipynb",
      "provenance": [],
      "collapsed_sections": [],
      "toc_visible": true,
      "authorship_tag": "ABX9TyNClEew5TCdrth2cjbqwRZL"
    },
    "kernelspec": {
      "name": "python3",
      "display_name": "Python 3"
    },
    "language_info": {
      "name": "python"
    }
  },
  "cells": [
    {
      "cell_type": "markdown",
      "metadata": {
        "id": "tEPlu5WUTQNF"
      },
      "source": [
        "# **Equity Index Futures Strategy**\n",
        "\n",
        "\n",
        "\n",
        "\n",
        "\n"
      ]
    },
    {
      "cell_type": "code",
      "metadata": {
        "id": "7HJT5yV7TO09"
      },
      "source": [
        "import numpy as np #General Library\n",
        "import pandas as pd \n",
        "import matplotlib\n",
        "import matplotlib.pyplot as plt\n",
        "%matplotlib inline\n",
        "import seaborn as sns;sns.set()\n",
        "import warnings\n",
        "warnings.simplefilter('ignore')\n",
        "matplotlib.use('WebAgg')\n",
        "import seaborn as sn"
      ],
      "execution_count": null,
      "outputs": []
    },
    {
      "cell_type": "code",
      "metadata": {
        "id": "-rR-w3RU00D4",
        "colab": {
          "base_uri": "https://localhost:8080/",
          "height": 42
        },
        "outputId": "60562109-9bb2-491e-cdff-f406974f15a3"
      },
      "source": [
        "#pip install matplotlib==3.3.2\n",
        "matplotlib.__version__"
      ],
      "execution_count": null,
      "outputs": [
        {
          "output_type": "execute_result",
          "data": {
            "application/vnd.google.colaboratory.intrinsic+json": {
              "type": "string"
            },
            "text/plain": [
              "'3.2.2'"
            ]
          },
          "metadata": {
            "tags": []
          },
          "execution_count": 2
        }
      ]
    },
    {
      "cell_type": "code",
      "metadata": {
        "id": "APzXyj42PA0A"
      },
      "source": [
        "from sklearn.ensemble import RandomForestClassifier #Machine learning models\n",
        "from sklearn.naive_bayes import GaussianNB #Gaussian Bayes\n",
        "import xgboost as xgb #Extreme Gradient Boosting\n",
        "from sklearn import tree #Decision Tree\n",
        "from sklearn import preprocessing\n",
        "from sklearn.model_selection import train_test_split,KFold,cross_val_score\n",
        "from sklearn.metrics import classification_report\n",
        "from sklearn.metrics import confusion_matrix"
      ],
      "execution_count": null,
      "outputs": []
    },
    {
      "cell_type": "code",
      "metadata": {
        "id": "lZq0cm1hZzfB"
      },
      "source": [
        "#Additional Library\n",
        "#pip install talib-binary==0.4.17\n",
        "#pip intall pyfolio\n",
        "#pip install arch\n",
        "#pip install alphalens"
      ],
      "execution_count": null,
      "outputs": []
    },
    {
      "cell_type": "code",
      "metadata": {
        "id": "JZoI-m-rdkuI",
        "colab": {
          "base_uri": "https://localhost:8080/"
        },
        "outputId": "eb3a1ea2-bd8a-4ade-83a6-c0a7df49d534"
      },
      "source": [
        "pip install git+https://github.com/quantopian/pyfolio #correct pyfolio"
      ],
      "execution_count": null,
      "outputs": [
        {
          "output_type": "stream",
          "text": [
            "Collecting git+https://github.com/quantopian/pyfolio\n",
            "  Cloning https://github.com/quantopian/pyfolio to /tmp/pip-req-build-08twx95f\n",
            "  Running command git clone -q https://github.com/quantopian/pyfolio /tmp/pip-req-build-08twx95f\n",
            "Requirement already satisfied: ipython>=3.2.3 in /usr/local/lib/python3.7/dist-packages (from pyfolio==0.9.2+75.g4b901f6) (5.5.0)\n",
            "Requirement already satisfied: matplotlib>=1.4.0 in /usr/local/lib/python3.7/dist-packages (from pyfolio==0.9.2+75.g4b901f6) (3.2.2)\n",
            "Requirement already satisfied: numpy>=1.11.1 in /usr/local/lib/python3.7/dist-packages (from pyfolio==0.9.2+75.g4b901f6) (1.19.5)\n",
            "Requirement already satisfied: pandas>=0.18.1 in /usr/local/lib/python3.7/dist-packages (from pyfolio==0.9.2+75.g4b901f6) (1.1.5)\n",
            "Requirement already satisfied: pytz>=2014.10 in /usr/local/lib/python3.7/dist-packages (from pyfolio==0.9.2+75.g4b901f6) (2018.9)\n",
            "Requirement already satisfied: scipy>=0.14.0 in /usr/local/lib/python3.7/dist-packages (from pyfolio==0.9.2+75.g4b901f6) (1.4.1)\n",
            "Requirement already satisfied: scikit-learn>=0.16.1 in /usr/local/lib/python3.7/dist-packages (from pyfolio==0.9.2+75.g4b901f6) (0.22.2.post1)\n",
            "Requirement already satisfied: seaborn>=0.7.1 in /usr/local/lib/python3.7/dist-packages (from pyfolio==0.9.2+75.g4b901f6) (0.11.1)\n",
            "Collecting empyrical>=0.5.0\n",
            "\u001b[?25l  Downloading https://files.pythonhosted.org/packages/74/43/1b997c21411c6ab7c96dc034e160198272c7a785aeea7654c9bcf98bec83/empyrical-0.5.5.tar.gz (52kB)\n",
            "\u001b[K     |████████████████████████████████| 61kB 2.8MB/s \n",
            "\u001b[?25hRequirement already satisfied: pickleshare in /usr/local/lib/python3.7/dist-packages (from ipython>=3.2.3->pyfolio==0.9.2+75.g4b901f6) (0.7.5)\n",
            "Requirement already satisfied: pygments in /usr/local/lib/python3.7/dist-packages (from ipython>=3.2.3->pyfolio==0.9.2+75.g4b901f6) (2.6.1)\n",
            "Requirement already satisfied: decorator in /usr/local/lib/python3.7/dist-packages (from ipython>=3.2.3->pyfolio==0.9.2+75.g4b901f6) (4.4.2)\n",
            "Requirement already satisfied: simplegeneric>0.8 in /usr/local/lib/python3.7/dist-packages (from ipython>=3.2.3->pyfolio==0.9.2+75.g4b901f6) (0.8.1)\n",
            "Requirement already satisfied: pexpect; sys_platform != \"win32\" in /usr/local/lib/python3.7/dist-packages (from ipython>=3.2.3->pyfolio==0.9.2+75.g4b901f6) (4.8.0)\n",
            "Requirement already satisfied: traitlets>=4.2 in /usr/local/lib/python3.7/dist-packages (from ipython>=3.2.3->pyfolio==0.9.2+75.g4b901f6) (5.0.5)\n",
            "Requirement already satisfied: setuptools>=18.5 in /usr/local/lib/python3.7/dist-packages (from ipython>=3.2.3->pyfolio==0.9.2+75.g4b901f6) (54.2.0)\n",
            "Requirement already satisfied: prompt-toolkit<2.0.0,>=1.0.4 in /usr/local/lib/python3.7/dist-packages (from ipython>=3.2.3->pyfolio==0.9.2+75.g4b901f6) (1.0.18)\n",
            "Requirement already satisfied: python-dateutil>=2.1 in /usr/local/lib/python3.7/dist-packages (from matplotlib>=1.4.0->pyfolio==0.9.2+75.g4b901f6) (2.8.1)\n",
            "Requirement already satisfied: pyparsing!=2.0.4,!=2.1.2,!=2.1.6,>=2.0.1 in /usr/local/lib/python3.7/dist-packages (from matplotlib>=1.4.0->pyfolio==0.9.2+75.g4b901f6) (2.4.7)\n",
            "Requirement already satisfied: kiwisolver>=1.0.1 in /usr/local/lib/python3.7/dist-packages (from matplotlib>=1.4.0->pyfolio==0.9.2+75.g4b901f6) (1.3.1)\n",
            "Requirement already satisfied: cycler>=0.10 in /usr/local/lib/python3.7/dist-packages (from matplotlib>=1.4.0->pyfolio==0.9.2+75.g4b901f6) (0.10.0)\n",
            "Requirement already satisfied: joblib>=0.11 in /usr/local/lib/python3.7/dist-packages (from scikit-learn>=0.16.1->pyfolio==0.9.2+75.g4b901f6) (1.0.1)\n",
            "Requirement already satisfied: pandas-datareader>=0.2 in /usr/local/lib/python3.7/dist-packages (from empyrical>=0.5.0->pyfolio==0.9.2+75.g4b901f6) (0.9.0)\n",
            "Requirement already satisfied: ptyprocess>=0.5 in /usr/local/lib/python3.7/dist-packages (from pexpect; sys_platform != \"win32\"->ipython>=3.2.3->pyfolio==0.9.2+75.g4b901f6) (0.7.0)\n",
            "Requirement already satisfied: ipython-genutils in /usr/local/lib/python3.7/dist-packages (from traitlets>=4.2->ipython>=3.2.3->pyfolio==0.9.2+75.g4b901f6) (0.2.0)\n",
            "Requirement already satisfied: wcwidth in /usr/local/lib/python3.7/dist-packages (from prompt-toolkit<2.0.0,>=1.0.4->ipython>=3.2.3->pyfolio==0.9.2+75.g4b901f6) (0.2.5)\n",
            "Requirement already satisfied: six>=1.9.0 in /usr/local/lib/python3.7/dist-packages (from prompt-toolkit<2.0.0,>=1.0.4->ipython>=3.2.3->pyfolio==0.9.2+75.g4b901f6) (1.15.0)\n",
            "Requirement already satisfied: requests>=2.19.0 in /usr/local/lib/python3.7/dist-packages (from pandas-datareader>=0.2->empyrical>=0.5.0->pyfolio==0.9.2+75.g4b901f6) (2.23.0)\n",
            "Requirement already satisfied: lxml in /usr/local/lib/python3.7/dist-packages (from pandas-datareader>=0.2->empyrical>=0.5.0->pyfolio==0.9.2+75.g4b901f6) (4.2.6)\n",
            "Requirement already satisfied: certifi>=2017.4.17 in /usr/local/lib/python3.7/dist-packages (from requests>=2.19.0->pandas-datareader>=0.2->empyrical>=0.5.0->pyfolio==0.9.2+75.g4b901f6) (2020.12.5)\n",
            "Requirement already satisfied: chardet<4,>=3.0.2 in /usr/local/lib/python3.7/dist-packages (from requests>=2.19.0->pandas-datareader>=0.2->empyrical>=0.5.0->pyfolio==0.9.2+75.g4b901f6) (3.0.4)\n",
            "Requirement already satisfied: idna<3,>=2.5 in /usr/local/lib/python3.7/dist-packages (from requests>=2.19.0->pandas-datareader>=0.2->empyrical>=0.5.0->pyfolio==0.9.2+75.g4b901f6) (2.10)\n",
            "Requirement already satisfied: urllib3!=1.25.0,!=1.25.1,<1.26,>=1.21.1 in /usr/local/lib/python3.7/dist-packages (from requests>=2.19.0->pandas-datareader>=0.2->empyrical>=0.5.0->pyfolio==0.9.2+75.g4b901f6) (1.24.3)\n",
            "Building wheels for collected packages: pyfolio, empyrical\n",
            "  Building wheel for pyfolio (setup.py) ... \u001b[?25l\u001b[?25hdone\n",
            "  Created wheel for pyfolio: filename=pyfolio-0.9.2+75.g4b901f6-cp37-none-any.whl size=75764 sha256=2ea472c23591f3c1dc55ecc0ad1334b393599fb21755144655368c741142e948\n",
            "  Stored in directory: /tmp/pip-ephem-wheel-cache-zom72f4q/wheels/62/7d/a7/3e462442ba7d63c35414176627c886340521dc3dbc0893ce9f\n",
            "  Building wheel for empyrical (setup.py) ... \u001b[?25l\u001b[?25hdone\n",
            "  Created wheel for empyrical: filename=empyrical-0.5.5-cp37-none-any.whl size=39764 sha256=c4da2a5445598d4d669e1adb19f759e0a255cb9210d01ba5dede2a84c1af5314\n",
            "  Stored in directory: /root/.cache/pip/wheels/ea/b2/c8/6769d8444d2f2e608fae2641833110668d0ffd1abeb2e9f3fc\n",
            "Successfully built pyfolio empyrical\n",
            "Installing collected packages: empyrical, pyfolio\n",
            "Successfully installed empyrical-0.5.5 pyfolio-0.9.2+75.g4b901f6\n"
          ],
          "name": "stdout"
        }
      ]
    },
    {
      "cell_type": "code",
      "metadata": {
        "id": "NQqxfa0DwIT6",
        "colab": {
          "base_uri": "https://localhost:8080/"
        },
        "outputId": "34073938-8479-429a-b216-5012482a8e59"
      },
      "source": [
        "pip install talib-binary==0.4.17 #print(talib.get_function_groups())"
      ],
      "execution_count": null,
      "outputs": [
        {
          "output_type": "stream",
          "text": [
            "Collecting talib-binary==0.4.17\n",
            "\u001b[?25l  Downloading https://files.pythonhosted.org/packages/99/1e/e1341b269ac2e299bda5e381d93bddb1790385e305c26d83190650fc8f18/talib_binary-0.4.17-cp37-cp37m-manylinux1_x86_64.whl (3.3MB)\n",
            "\u001b[K     |████████████████████████████████| 3.3MB 4.4MB/s \n",
            "\u001b[?25hRequirement already satisfied: numpy in /usr/local/lib/python3.7/dist-packages (from talib-binary==0.4.17) (1.19.5)\n",
            "Installing collected packages: talib-binary\n",
            "Successfully installed talib-binary-0.4.17\n"
          ],
          "name": "stdout"
        }
      ]
    },
    {
      "cell_type": "code",
      "metadata": {
        "id": "63SzXh3Zr9cH"
      },
      "source": [
        "#pip install empyrical==0.3.4"
      ],
      "execution_count": null,
      "outputs": []
    },
    {
      "cell_type": "code",
      "metadata": {
        "id": "sQQyAEo4xK0g"
      },
      "source": [
        "import talib as tb\n",
        "import pyfolio as pf\n",
        "#import alphalens as al"
      ],
      "execution_count": null,
      "outputs": []
    },
    {
      "cell_type": "markdown",
      "metadata": {
        "id": "YWtd4f3LbjWV"
      },
      "source": [
        "**IMPORT DATA**"
      ]
    },
    {
      "cell_type": "code",
      "metadata": {
        "id": "AN3mLxJNbW77",
        "colab": {
          "base_uri": "https://localhost:8080/"
        },
        "outputId": "3c92b9bf-0e58-47f9-d368-051d877de0ef"
      },
      "source": [
        "from google.colab import drive #load data from gdrive\n",
        "drive.mount('/content/drive',force_remount=True)\n",
        "%cd \"/content/drive/My Drive/EF4328_GROUP_DATA\""
      ],
      "execution_count": null,
      "outputs": [
        {
          "output_type": "stream",
          "text": [
            "Mounted at /content/drive\n",
            "/content/drive/My Drive/EF4328_GROUP_DATA\n"
          ],
          "name": "stdout"
        }
      ]
    },
    {
      "cell_type": "code",
      "metadata": {
        "id": "yiu15PlQaS4v"
      },
      "source": [
        "EQUITY_FUT=pd.read_csv('/content/drive/MyDrive/EF4328_GROUP_DATA/EQUITY.csv',index_col=0, parse_dates=True)#.ffill().truncate(before=pd.Timestamp(\"1990-01-01\"))\n",
        "COMMODITY_FUT=pd.read_csv('/content/drive/MyDrive/EF4328_GROUP_DATA/COMMODITY.csv',index_col=0, parse_dates=True)\n",
        "CURRENCY_FUT=pd.read_csv('/content/drive/MyDrive/EF4328_GROUP_DATA/CURRENCY.csv',index_col=0, parse_dates=True)\n",
        "BOND_FUT=pd.read_csv('/content/drive/MyDrive/EF4328_GROUP_DATA/BOND.csv',index_col=0, parse_dates=True)\n",
        "EQUITY_FUT.index=EQUITY_FUT.index.tz_localize('US/Eastern')\n",
        "COMMODITY_FUT.index=COMMODITY_FUT.index.tz_localize('US/Eastern')\n",
        "CURRENCY_FUT.index=CURRENCY_FUT.index.tz_localize('US/Eastern')\n",
        "BOND_FUT=BOND_FUT.index.tz_localize('US/Eastern')"
      ],
      "execution_count": null,
      "outputs": []
    },
    {
      "cell_type": "code",
      "metadata": {
        "id": "No0ibFiXYx4a"
      },
      "source": [
        "def compute_ret(df,n): #compare strategy and benchmark return\n",
        "  bench='return_next_day'\n",
        "  benchmark_ret=df[bench]\n",
        "  #strategy ret\n",
        "  name='strat'+str(n)"
      ],
      "execution_count": null,
      "outputs": []
    },
    {
      "cell_type": "markdown",
      "metadata": {
        "id": "myArzOiYZNtE"
      },
      "source": [
        "**DATA CLEANING**"
      ]
    },
    {
      "cell_type": "code",
      "metadata": {
        "id": "wDPir56zcfS5"
      },
      "source": [
        "dfe=EQUITY_FUT.copy() #Equity Final\n",
        "ES=dfe[dfe.columns[:18]]\n",
        "DM=dfe[dfe.columns[18:36]]\n",
        "NQ=dfe[dfe.columns[36:]]\n",
        "#Commodity\n",
        "dfc=COMMODITY_FUT.copy()\n",
        "C=dfc[dfc.columns[:18]]\n",
        "CO=dfc[dfc.columns[18:36]]\n",
        "CL=dfc[dfc.columns[36:54]]\n",
        "W=dfc[dfc.columns[54:72]]\n",
        "S=dfc[dfc.columns[72:90]]\n",
        "#Currency\n",
        "dfcr=CURRENCY_FUT.copy()\n",
        "AD=dfcr[dfcr.columns[:18]]\n",
        "CD=dfcr[dfcr.columns[18:36]]\n",
        "SF=dfcr[dfcr.columns[36:54]]\n",
        "EC=dfcr[dfcr.columns[54:72]]\n",
        "JY=dfcr[dfcr.columns[72:90]]\n",
        "list_assets=[ES,DM,NQ,C,CO,CL,W,S,AD,CD,SF,EC,JY]\n",
        "ES_df=ES.copy()\n",
        "DM_df=DM.dropna()\n",
        "NQ_df=NQ.dropna()\n",
        "C_df=C.dropna()\n",
        "CO_df=CO.dropna()\n",
        "CL_df=CL.dropna()\n",
        "W_df=W.dropna()\n",
        "S_df=S.dropna()\n",
        "AD_df=AD.dropna()\n",
        "CD_df=CD.dropna()\n",
        "SF_df=SF.dropna()\n",
        "EC_df=EC.dropna()\n",
        "JY_df=JY.dropna()\n",
        "list_df=[ES_df,DM_df,NQ_df,C_df,CO_df,CL_df,W_df,S_df,AD_df,CD_df,SF_df,EC_df,JY_df]"
      ],
      "execution_count": null,
      "outputs": []
    },
    {
      "cell_type": "code",
      "metadata": {
        "id": "g0e-OgTbnbug"
      },
      "source": [
        "#print(ES.isnull().sum())\n",
        "#print(DM.isnull().sum())\n",
        "#print(NQ.isnull().sum())"
      ],
      "execution_count": null,
      "outputs": []
    },
    {
      "cell_type": "markdown",
      "metadata": {
        "id": "eGSBw4Obr-14"
      },
      "source": [
        "# **2. Exploratory Data Analysis**"
      ]
    },
    {
      "cell_type": "code",
      "metadata": {
        "id": "K_Bxk1YZzeXa",
        "colab": {
          "base_uri": "https://localhost:8080/",
          "height": 248
        },
        "outputId": "234d7eb8-492f-4188-8667-5369055835ea"
      },
      "source": [
        "pd.set_option('precision',2) #Descriptive Statistics\n",
        "ES_df.head(1)"
      ],
      "execution_count": null,
      "outputs": [
        {
          "output_type": "execute_result",
          "data": {
            "text/html": [
              "<div>\n",
              "<style scoped>\n",
              "    .dataframe tbody tr th:only-of-type {\n",
              "        vertical-align: middle;\n",
              "    }\n",
              "\n",
              "    .dataframe tbody tr th {\n",
              "        vertical-align: top;\n",
              "    }\n",
              "\n",
              "    .dataframe thead th {\n",
              "        text-align: right;\n",
              "    }\n",
              "</style>\n",
              "<table border=\"1\" class=\"dataframe\">\n",
              "  <thead>\n",
              "    <tr style=\"text-align: right;\">\n",
              "      <th></th>\n",
              "      <th>ES1 Index_PX_OPEN</th>\n",
              "      <th>ES1 Index_PX_LAST</th>\n",
              "      <th>ES1 Index_PX_HIGH</th>\n",
              "      <th>ES1 Index_PX_LOW</th>\n",
              "      <th>ES1 Index_PX_VOLUME</th>\n",
              "      <th>ES1 Index_OPEN_INT</th>\n",
              "      <th>ES1 Index_FUT_AGGTE_OPEN_INT</th>\n",
              "      <th>ES1 Index_AGGREGATE_CALL_OPEN_INT</th>\n",
              "      <th>ES1 Index_AGGREGATE_PUT_OPEN_INT</th>\n",
              "      <th>ES2 Index_PX_OPEN</th>\n",
              "      <th>ES2 Index_PX_LAST</th>\n",
              "      <th>ES2 Index_PX_HIGH</th>\n",
              "      <th>ES2 Index_PX_LOW</th>\n",
              "      <th>ES2 Index_PX_VOLUME</th>\n",
              "      <th>ES2 Index_OPEN_INT</th>\n",
              "      <th>ES2 Index_FUT_AGGTE_OPEN_INT</th>\n",
              "      <th>ES2 Index_AGGREGATE_CALL_OPEN_INT</th>\n",
              "      <th>ES2 Index_AGGREGATE_PUT_OPEN_INT</th>\n",
              "    </tr>\n",
              "    <tr>\n",
              "      <th>Dates</th>\n",
              "      <th></th>\n",
              "      <th></th>\n",
              "      <th></th>\n",
              "      <th></th>\n",
              "      <th></th>\n",
              "      <th></th>\n",
              "      <th></th>\n",
              "      <th></th>\n",
              "      <th></th>\n",
              "      <th></th>\n",
              "      <th></th>\n",
              "      <th></th>\n",
              "      <th></th>\n",
              "      <th></th>\n",
              "      <th></th>\n",
              "      <th></th>\n",
              "      <th></th>\n",
              "      <th></th>\n",
              "    </tr>\n",
              "  </thead>\n",
              "  <tbody>\n",
              "    <tr>\n",
              "      <th>2000-01-03 00:00:00-05:00</th>\n",
              "      <td>1489.0</td>\n",
              "      <td>1466.75</td>\n",
              "      <td>1496.0</td>\n",
              "      <td>1452.25</td>\n",
              "      <td>61938</td>\n",
              "      <td>13954</td>\n",
              "      <td>13967</td>\n",
              "      <td>384</td>\n",
              "      <td>426</td>\n",
              "      <td>1513.0</td>\n",
              "      <td>1485.75</td>\n",
              "      <td>1513.25</td>\n",
              "      <td>1468.5</td>\n",
              "      <td>4</td>\n",
              "      <td>13</td>\n",
              "      <td>13967</td>\n",
              "      <td>384</td>\n",
              "      <td>426</td>\n",
              "    </tr>\n",
              "  </tbody>\n",
              "</table>\n",
              "</div>"
            ],
            "text/plain": [
              "                           ES1 Index_PX_OPEN  ...  ES2 Index_AGGREGATE_PUT_OPEN_INT\n",
              "Dates                                         ...                                  \n",
              "2000-01-03 00:00:00-05:00             1489.0  ...                               426\n",
              "\n",
              "[1 rows x 18 columns]"
            ]
          },
          "metadata": {
            "tags": []
          },
          "execution_count": 11
        }
      ]
    },
    {
      "cell_type": "markdown",
      "metadata": {
        "id": "Ho_qc-XU05I-"
      },
      "source": [
        "**2.2 Define Parameters**"
      ]
    },
    {
      "cell_type": "code",
      "metadata": {
        "id": "nFHopzPhsMAR"
      },
      "source": [
        "#Daily pct change\n",
        "ES_df['daily_pct_change']=ES_df['ES1 Index_PX_LAST'].pct_change()\n",
        "DM_df['daily_pct_change']=DM_df['DM1 Index_PX_LAST'].pct_change()\n",
        "NQ_df['daily_pct_change']=NQ_df['NQ1 Index_PX_LAST'].pct_change()\n",
        "C_df['daily_pct_change']=C_df['C 1 Comdty_PX_LAST'].pct_change()\n",
        "CO_df['daily_pct_change']=CO_df['CO1 Comdty_PX_LAST'].pct_change()\n",
        "CL_df['daily_pct_change']=CL_df['CL1 Comdty_PX_LAST'].pct_change()\n",
        "W_df['daily_pct_change']=W_df['W 1 Comdty_PX_LAST'].pct_change()\n",
        "S_df['daily_pct_change']=S_df['S 1 Comdty_PX_LAST'].pct_change()\n",
        "#Target Var\n",
        "ES_df['return_next_day']=ES_df['daily_pct_change'].shift(-1)\n",
        "DM_df['return_next_day']=DM_df['daily_pct_change'].shift(-1)\n",
        "NQ_df['return_next_day']=NQ_df['daily_pct_change'].shift(-1)\n",
        "C_df['return_next_day']=C_df['daily_pct_change'].shift(-1)\n",
        "CO_df['return_next_day']=CO_df['daily_pct_change'].shift(-1)\n",
        "CL_df['return_next_day']=CL_df['daily_pct_change'].shift(-1)\n",
        "W_df['return_next_day']=W_df['daily_pct_change'].shift(-1)\n",
        "S_df['return_next_day']=S_df['daily_pct_change'].shift(-1)\n",
        "ES_df['actual_signal']=np.where(ES_df.return_next_day>0,1,-1)\n",
        "DM_df['actual_signal']=np.where(DM_df.return_next_day>0,1,-1)\n",
        "NQ_df['actual_signal']=np.where(NQ_df.return_next_day>0,1,-1)\n",
        "C_df['actual_signal']=np.where(C_df.return_next_day>0,1,-1)\n",
        "CO_df['actual_signal']=np.where(CO_df.return_next_day>0,1,-1)\n",
        "CL_df['actual_signal']=np.where(CL_df.return_next_day>0,1,-1)\n",
        "W_df['actual_signal']=np.where(W_df.return_next_day>0,1,-1)\n",
        "S_df['actual_signal']=np.where(S_df.return_next_day>0,1,-1)\n",
        "#cum ret\n",
        "ES_df['cum_ret']=(1+ES_df['daily_pct_change']).cumprod()\n",
        "DM_df['cum_ret']=(1+DM_df['daily_pct_change']).cumprod()\n",
        "NQ_df['cum_ret']=(1+NQ_df['daily_pct_change']).cumprod()\n",
        "C_df['cum_ret']=(1+C_df['daily_pct_change']).cumprod()\n",
        "CO_df['cum_ret']=(1+CO_df['daily_pct_change']).cumprod()\n",
        "CL_df['cum_ret']=(1+CL_df['daily_pct_change']).cumprod()\n",
        "W_df['cum_ret']=(1+W_df['daily_pct_change']).cumprod()\n",
        "S_df['cum_ret']=(1+S_df['daily_pct_change']).cumprod()"
      ],
      "execution_count": null,
      "outputs": []
    },
    {
      "cell_type": "markdown",
      "metadata": {
        "id": "rBkdYCYh9Q8B"
      },
      "source": [
        "2.3 Baseline Features: Linear Correlation"
      ]
    },
    {
      "cell_type": "code",
      "metadata": {
        "colab": {
          "base_uri": "https://localhost:8080/",
          "height": 304
        },
        "id": "UKE3Ffy64O6T",
        "outputId": "a557de43-168e-499c-ffb2-ed17c3260274"
      },
      "source": [
        "# Plot Correlation to Target Variable only\n",
        "cmap = sns.diverging_palette(220, 10, as_cmap=True)\n",
        "def corrMat(df,target='demand',figsize=(9,0.5),ret_id=False): \n",
        "    #target signal you want, can be single/multiple signal\n",
        "    corr_mat = df.corr().round(2);shape = corr_mat.shape[0]\n",
        "    corr_mat = corr_mat.transpose()\n",
        "    corr = corr_mat.loc[:, df.columns == target].transpose().copy()\n",
        "    \n",
        "    if(ret_id is False):\n",
        "        f, ax = plt.subplots(figsize=figsize)\n",
        "        sns.heatmap(corr,vmin=-0.3,vmax=0.3,center=0, cmap=cmap,square=False,lw=2,annot=True,cbar=False)\n",
        "        plt.title(f'Feature Correlation to {target}')\n",
        "    \n",
        "    if(ret_id):\n",
        "        return corr\n",
        "corrMat(ES_df,'actual_signal',figsize=(16,0.5))"
      ],
      "execution_count": null,
      "outputs": [
        {
          "output_type": "display_data",
          "data": {
            "image/png": "[encoded data removed]",
            "text/plain": [
              "<Figure size 1152x36 with 1 Axes>"
            ]
          },
          "metadata": {
            "tags": [],
            "needs_background": "light"
          }
        }
      ]
    },
    {
      "cell_type": "code",
      "metadata": {
        "id": "-4kYxhNKnnKT"
      },
      "source": [
        ""
      ],
      "execution_count": null,
      "outputs": []
    },
    {
      "cell_type": "markdown",
      "metadata": {
        "id": "0v1qNynvBQP4"
      },
      "source": [
        "**2.4 Feature Engineering**"
      ]
    },
    {
      "cell_type": "code",
      "metadata": {
        "id": "uDvTyrqOBViw"
      },
      "source": [
        "# Create the predictors\n",
        "predictor_list = []\n",
        "def mom(df,n): #Calculation of momentum\n",
        "  t=df.pct_change()\n",
        "  return pd.Series(t.rolling(n).mean(), name='Momentum_' + str(n))\n",
        "def carry(df,df2,n=12): #Calculation of carry, Default 12\n",
        "  cry=(df/df2)-1\n",
        "  return pd.Series(cry.rolling(n).mean(),name='Carry_'+str(n))\n",
        "def ema(df,n):\n",
        "   return pd.Series(df.ewm(span=n,min_periods=n).mean(), name='EMA_' + str(n))\n",
        "def enhance_oi(df,df2,n): #df1 open interest and df2 return.Option weekly expire\n",
        "  oi=df/df2\n",
        "  oi_ret=(oi-oi.rolling(n).mean())/oi.rolling(n).std()\n",
        "  return pd.Series(oi_ret,name='OI_'+str(n))\n",
        "def rev(df,n):#df is cumret,Large-cap/low-volatility\n",
        "  return pd.Series((df.rolling(n).mean()-df)/df.rolling(n).std())\n",
        "def strat_bband(df,n): #n optimal 5, 30,  15 \n",
        "    upperband, middleband, lowerband = tb.BBANDS(df, timeperiod=n, nbdevup=2.25, nbdevdn=2.25, matype=0)\n",
        "    return pd.Series(np.where(df>upperband,-1,np.where(df<lowerband,1,0)))\n"
      ],
      "execution_count": null,
      "outputs": []
    },
    {
      "cell_type": "code",
      "metadata": {
        "id": "92kVpbcqP47I"
      },
      "source": [
        "def rz_indicator(true_df,ldf,ldf2,ldf3,ldf4,tr_id=True): \n",
        "  #ldf2=OI, ldf3=cumret, ldf4=2nd month last_px,\n",
        "    #Momentum \n",
        "    true_df['MOM120'] = mom(ldf,128) #short 6 month\n",
        "    true_df['MOM240'] = mom(ldf, 252) #long 1 year\n",
        "    lst_MOM = ['MOM120','MOM240']\n",
        "    #Carry\n",
        "    true_df['CARRY22'] = carry(ldf,ldf4, 22)\n",
        "    true_df['CARRY120'] = carry(ldf,ldf4, 128)\n",
        "    true_df['CARRY240'] = carry(ldf,ldf4, 251)\n",
        "    lst_CRY = ['CARRY10','CARRY20','CARRY40']\n",
        "    #Enhance_OI\n",
        "    true_df['OI5']=enhance_oi(ldf2,ldf,5)\n",
        "    true_df['OI20']=enhance_oi(ldf2,ldf,20)\n",
        "    true_df['OI60']=enhance_oi(ldf2,ldf,60)\n",
        "    true_df['OI120']=enhance_oi(ldf2,ldf,120)\n",
        "    true_df['OI240']=enhance_oi(ldf2,ldf,240)\n",
        "    lst_OI=['OI5','OI20','OI60','OI120','OI240']\n",
        "    #Mean Reversion\n",
        "    true_df['REV20']=rev(ldf3,20)\n",
        "    true_df['REV60']=rev(ldf3,64)\n",
        "    true_df['REV120']=rev(ldf3,128)\n",
        "    true_df['REV240']=rev(ldf3,251)\n",
        "    lst_MR=['REV20','REV60','REV120','REV240']\n",
        "  #real=tb.ATR(NQ_df['NQ1 Index_PX_HIGH'],NQ_df['NQ1 Index_PX_LOW'],NQ_df['NQ1 Index_PX_LAST'],timeperiod=14)\n",
        "#upperband, middleband, lowerband = tb.BBANDS(NQ_df['NQ1 Index_PX_LAST'], timeperiod=5, nbdevup=2, nbdevdn=2, matype=0) #Quite General\n"
      ],
      "execution_count": null,
      "outputs": []
    },
    {
      "cell_type": "markdown",
      "metadata": {
        "id": "iRYucz5PKeT9"
      },
      "source": [
        "## **Indicator Generation**"
      ]
    },
    {
      "cell_type": "code",
      "metadata": {
        "id": "ED20zk9kDIv2"
      },
      "source": [
        "rz_indicator(ES_df,ES_df['ES1 Index_PX_LAST'],ES_df['ES1 Index_FUT_AGGTE_OPEN_INT'],ES_df['cum_ret'],ES_df['ES2 Index_PX_LAST'],True)\n",
        "rz_indicator(DM_df,DM_df['DM1 Index_PX_LAST'],DM_df['DM1 Index_FUT_AGGTE_OPEN_INT'],DM_df['cum_ret'],DM_df['DM2 Index_PX_LAST'],True)\n",
        "rz_indicator(NQ_df,NQ_df['NQ1 Index_PX_LAST'],NQ_df['NQ1 Index_FUT_AGGTE_OPEN_INT'],NQ_df['cum_ret'],NQ_df['NQ2 Index_PX_LAST'],True)\n",
        "rz_indicator(C_df,C_df['C 1 Comdty_PX_LAST'],C_df['C 1 Comdty_FUT_AGGTE_OPEN_INT'],C_df['cum_ret'],C_df['C 2 Comdty_PX_LAST'],True)\n",
        "rz_indicator(CO_df,CO_df['CO1 Comdty_PX_LAST'],CO_df['CO1 Comdty_FUT_AGGTE_OPEN_INT'],CO_df['cum_ret'],CO_df['CO2 Comdty_PX_LAST'],True)\n",
        "rz_indicator(CL_df,CL_df['CL1 Comdty_PX_LAST'],CL_df['CL1 Comdty_FUT_AGGTE_OPEN_INT'],CL_df['cum_ret'],CL_df['CL2 Comdty_PX_LAST'],True)\n",
        "rz_indicator(W_df,W_df['W 1 Comdty_PX_LAST'],W_df['W 1 Comdty_FUT_AGGTE_OPEN_INT'],W_df['cum_ret'],W_df['W 2 Comdty_PX_LAST'],True)\n",
        "rz_indicator(S_df,S_df['S 1 Comdty_PX_LAST'],S_df['S 1 Comdty_FUT_AGGTE_OPEN_INT'],S_df['cum_ret'],S_df['S 2 Comdty_PX_LAST'],True)\n"
      ],
      "execution_count": null,
      "outputs": []
    },
    {
      "cell_type": "markdown",
      "metadata": {
        "id": "ndB5Z-Rq1IhZ"
      },
      "source": [
        "## **Clean data after adding indicators**\n"
      ]
    },
    {
      "cell_type": "code",
      "metadata": {
        "id": "re5LpnzMsMJH"
      },
      "source": [
        "#Drop remaining missing data\n",
        "ES_dfU=ES_df.copy().dropna()\n",
        "DM_dfU=DM_df.copy().dropna()\n",
        "NQ_dfU=NQ_df.copy().dropna()\n",
        "C_dfU=C_df.copy().dropna()\n",
        "CO_dfU=CO_df.copy().dropna()\n",
        "CL_dfU=CL_df.copy().dropna()\n",
        "W_dfU=W_df.copy().dropna()\n",
        "S_dfU=S_df.copy().dropna()"
      ],
      "execution_count": null,
      "outputs": []
    },
    {
      "cell_type": "code",
      "metadata": {
        "id": "b3c9DtYOrkCm",
        "colab": {
          "base_uri": "https://localhost:8080/",
          "height": 128
        },
        "outputId": "792f444e-9fa6-46d1-9d5b-b6043bb8f1dc"
      },
      "source": [
        "ES_dfU[['OI5','OI20','OI60','OI120','OI240','REV20','REV60','REV120','REV240','return_next_day']].head(1)"
      ],
      "execution_count": null,
      "outputs": [
        {
          "output_type": "execute_result",
          "data": {
            "text/html": [
              "<div>\n",
              "<style scoped>\n",
              "    .dataframe tbody tr th:only-of-type {\n",
              "        vertical-align: middle;\n",
              "    }\n",
              "\n",
              "    .dataframe tbody tr th {\n",
              "        vertical-align: top;\n",
              "    }\n",
              "\n",
              "    .dataframe thead th {\n",
              "        text-align: right;\n",
              "    }\n",
              "</style>\n",
              "<table border=\"1\" class=\"dataframe\">\n",
              "  <thead>\n",
              "    <tr style=\"text-align: right;\">\n",
              "      <th></th>\n",
              "      <th>OI5</th>\n",
              "      <th>OI20</th>\n",
              "      <th>OI60</th>\n",
              "      <th>OI120</th>\n",
              "      <th>OI240</th>\n",
              "      <th>REV20</th>\n",
              "      <th>REV60</th>\n",
              "      <th>REV120</th>\n",
              "      <th>REV240</th>\n",
              "      <th>return_next_day</th>\n",
              "    </tr>\n",
              "    <tr>\n",
              "      <th>Dates</th>\n",
              "      <th></th>\n",
              "      <th></th>\n",
              "      <th></th>\n",
              "      <th></th>\n",
              "      <th></th>\n",
              "      <th></th>\n",
              "      <th></th>\n",
              "      <th></th>\n",
              "      <th></th>\n",
              "      <th></th>\n",
              "    </tr>\n",
              "  </thead>\n",
              "  <tbody>\n",
              "    <tr>\n",
              "      <th>2000-12-20 00:00:00-05:00</th>\n",
              "      <td>-0.103067</td>\n",
              "      <td>-1.414357</td>\n",
              "      <td>-0.814822</td>\n",
              "      <td>-0.1403</td>\n",
              "      <td>0.439568</td>\n",
              "      <td>2.56613</td>\n",
              "      <td>2.302564</td>\n",
              "      <td>2.519436</td>\n",
              "      <td>2.809661</td>\n",
              "      <td>0.006643</td>\n",
              "    </tr>\n",
              "  </tbody>\n",
              "</table>\n",
              "</div>"
            ],
            "text/plain": [
              "                                OI5      OI20  ...    REV240  return_next_day\n",
              "Dates                                          ...                           \n",
              "2000-12-20 00:00:00-05:00 -0.103067 -1.414357  ...  2.809661         0.006643\n",
              "\n",
              "[1 rows x 10 columns]"
            ]
          },
          "metadata": {
            "tags": []
          },
          "execution_count": 17
        }
      ]
    },
    {
      "cell_type": "markdown",
      "metadata": {
        "id": "XAEE5_P6C0tU"
      },
      "source": [
        "# **3. Emprical Model Analysis**"
      ]
    },
    {
      "cell_type": "code",
      "metadata": {
        "id": "s-lt6wEhZy2c"
      },
      "source": [
        "def strat(true_df):\n",
        "  #momentum\n",
        "  true_df['signal_MOM120']=np.where(true_df['MOM120']>0,1,-1)\n",
        "  true_df['MOM120_ret']=true_df['signal_MOM120']*true_df.return_next_day\n",
        "  true_df['signal_MOM240']=np.where(true_df['MOM240']>0,1,-1)\n",
        "  true_df['MOM240_ret']=true_df['signal_MOM240']*true_df.return_next_day\n",
        "  #Carry\n",
        "  true_df['signal_CARRY22']=np.where(true_df['CARRY22']>0,1,-1)\n",
        "  true_df['CARRY22_ret']=true_df['signal_CARRY22']*true_df.return_next_day\n",
        "  true_df['signal_CARRY120']=np.where(true_df['CARRY120']>0,1,-1)\n",
        "  true_df['CARRY120_ret']=true_df['signal_CARRY120']*true_df.return_next_day\n",
        "  true_df['signal_CARRY240']=np.where(true_df['CARRY240']>0,1,-1)\n",
        "  true_df['CARRY240_ret']=true_df['signal_CARRY240']*true_df.return_next_day\n",
        "  #Enhance Open Interest\n",
        "  true_df['signal_OI5']=np.where(true_df['OI5']>0,1,-1)\n",
        "  true_df['OI5_ret']=true_df['signal_OI5']*true_df.return_next_day\n",
        "  true_df['signal_OI20']=np.where(true_df['OI20']>0,1,-1)\n",
        "  true_df['OI20_ret']=true_df['signal_OI20']*true_df.return_next_day\n",
        "  true_df['signal_OI60']=np.where(true_df['OI60']>0,1,-1)\n",
        "  true_df['OI60_ret']=true_df['signal_OI60']*true_df.return_next_day\n",
        "  true_df['signal_OI120']=np.where(true_df['OI120']>0,1,-1)\n",
        "  true_df['OI120_ret']=true_df['signal_OI120']*true_df.return_next_day\n",
        "  true_df['signal_OI240']=np.where(true_df['OI240']>0,1,-1)\n",
        "  true_df['OI240_ret']=true_df['signal_OI240']*true_df.return_next_day\n",
        "  #====Strategy Combination===\n",
        "  #1. OI MOM\n",
        "  true_df['signal_OI_MOM']=np.where((true_df['signal_OI5']==1) & (true_df['signal_MOM240']==1),1,np.where((true_df['signal_OI5']==-1)& (true_df['signal_MOM240']==-1),-1,0))\n",
        "  true_df['OI_MOM_ret']=true_df['signal_OI_MOM']*true_df.return_next_day\n",
        "  #2. OI CARRY\n",
        "  true_df['signal_OI_CARRY']=np.where((true_df['signal_OI5']==1) & (true_df['signal_CARRY240']==1),1,np.where((true_df['signal_OI5']==-1) &(true_df['signal_CARRY240']==-1),-1,0))\n",
        "  true_df['OI_CARRY_ret']=true_df['signal_OI_CARRY']*true_df.return_next_day\n",
        "  #3. CARRY MOM\n",
        "  true_df['signal_CARRY_MOM']=np.where((true_df['signal_CARRY240']==1)&(true_df['signal_MOM240']==1),1,np.where((true_df['signal_CARRY240']==-1)&(true_df['signal_MOM240']==-1),-1,0))\n",
        "  true_df['CARRY_MOM_ret']=true_df['signal_CARRY_MOM']*true_df.return_next_day\n",
        "  #4. OI CARRY MOM\n",
        "  true_df['signal_OI_CARRY_MOM']=np.where((true_df['signal_CARRY240']==1)&(true_df['signal_MOM240']==1)&(true_df['signal_OI5']==1),1,np.where((true_df['signal_CARRY240']==-1)&(true_df['signal_MOM240']==-1)&(true_df['signal_OI5']==-1),-1,0))\n",
        "  true_df['OI_CARRY_MOM_ret']=true_df['signal_OI_CARRY_MOM']*true_df.return_next_day\n",
        "  #Benchmark copy\n",
        "  true_df['benchmark_ret']=true_df['daily_pct_change'].copy()\n",
        "strat(ES_dfU)\n",
        "strat(DM_dfU)\n",
        "strat(NQ_dfU)\n",
        "strat(C_dfU)\n",
        "strat(CO_dfU)\n",
        "strat(CL_dfU)\n",
        "strat(W_dfU)\n",
        "strat(S_dfU)"
      ],
      "execution_count": null,
      "outputs": []
    },
    {
      "cell_type": "code",
      "metadata": {
        "id": "dWLEFm8eZJn6"
      },
      "source": [
        "ret_type_list=['MOM120_ret','MOM240_ret','CARRY22_ret','CARRY120_ret','CARRY240_ret','REV20_ret','REV60_ret','REV120_ret','REV240_ret','OI5_ret','OI20_ret','OI60_ret','OI120_ret','OI240_ret']\n",
        "ret_combination_list=['OI_MOM_ret','OI_CARRY_ret','CARRY_MOM_ret','OI_CARRY_MOM_ret']"
      ],
      "execution_count": null,
      "outputs": []
    },
    {
      "cell_type": "code",
      "metadata": {
        "id": "0QQvv9jeZ8Zg"
      },
      "source": [
        "#Export to CSV ===Return ONLY====\n",
        "#ES_dfU[['MOM120_ret','MOM240_ret','CARRY22_ret','CARRY120_ret','CARRY240_ret','OI5_ret','OI20_ret']].to_csv('ES.csv')\n",
        "#DM_dfU[['MOM120_ret','MOM240_ret','CARRY22_ret','CARRY120_ret','CARRY240_ret','OI5_ret','OI20_ret']].to_csv('DM.csv')\n",
        "#NQ_dfU[['MOM120_ret','MOM240_ret','CARRY22_ret','CARRY120_ret','CARRY240_ret','OI5_ret','OI20_ret']].to_csv('NQ.csv')\n",
        "#C_dfU[['MOM120_ret','MOM240_ret','CARRY22_ret','CARRY120_ret','CARRY240_ret','OI5_ret','OI20_ret']].to_csv('C.csv')\n",
        "#CO_dfU[['MOM120_ret','MOM240_ret','CARRY22_ret','CARRY120_ret','CARRY240_ret','OI5_ret','OI20_ret']].to_csv('CO.csv')\n",
        "#CL_dfU[['MOM120_ret','MOM240_ret','CARRY22_ret','CARRY120_ret','CARRY240_ret','OI5_ret','OI20_ret']].to_csv('CL.csv')\n",
        "#W_dfU[['MOM120_ret','MOM240_ret','CARRY22_ret','CARRY120_ret','CARRY240_ret','OI5_ret','OI20_ret']].to_csv('W.csv')\n",
        "#S_dfU[['MOM120_ret','MOM240_ret','CARRY22_ret','CARRY120_ret','CARRY240_ret','OI5_ret','OI20_ret']].to_csv('S.csv')"
      ],
      "execution_count": null,
      "outputs": []
    },
    {
      "cell_type": "code",
      "metadata": {
        "id": "khHTbtDxq-_A"
      },
      "source": [
        "#Export to CSV ===Return and pos === (Discretionary plz)\n",
        "ES_dfU[ES_dfU.columns[-20:]].to_csv('ES2.csv')\n",
        "DM_dfU[DM_dfU.columns[-20:]].to_csv('DM2.csv')\n",
        "NQ_dfU[NQ_dfU.columns[-20:]].to_csv('NQ2.csv')\n",
        "C_dfU[C_dfU.columns[-20:]].to_csv('C2.csv')\n",
        "CO_dfU[CO_dfU.columns[-20:]].to_csv('CO2.csv')\n",
        "CL_dfU[CL_dfU.columns[-20:]].to_csv('CL2.csv')\n",
        "W_dfU[W_dfU.columns[-20:]].to_csv('W2.csv')\n",
        "S_dfU[S_dfU.columns[-20:]].to_csv('S2.csv')"
      ],
      "execution_count": null,
      "outputs": []
    },
    {
      "cell_type": "code",
      "metadata": {
        "colab": {
          "base_uri": "https://localhost:8080/",
          "height": 298
        },
        "id": "bk3ehnVrCoh1",
        "outputId": "033f87b1-ca20-427b-8f31-8ea22fd66d58"
      },
      "source": [
        "(1+ES_dfU['OI_CARRY_MOM_ret']).cumprod().plot()\n",
        "(1+ES_dfU['OI_MOM_ret']).cumprod().plot()\n",
        "(1+ES_dfU['CARRY_MOM_ret']).cumprod().plot()\n",
        "\n",
        "plt.legend()\n"
      ],
      "execution_count": null,
      "outputs": [
        {
          "output_type": "execute_result",
          "data": {
            "text/plain": [
              "<matplotlib.legend.Legend at 0x7f9dadfa8a90>"
            ]
          },
          "metadata": {
            "tags": []
          },
          "execution_count": 19
        },
        {
          "output_type": "display_data",
          "data": {
            "image/png": "[encoded data removed]",
            "text/plain": [
              "<Figure size 432x288 with 1 Axes>"
            ]
          },
          "metadata": {
            "tags": [],
            "needs_background": "light"
          }
        }
      ]
    },
    {
      "cell_type": "markdown",
      "metadata": {
        "id": "Rc9A0Z9MX64i"
      },
      "source": [
        "##**Sample Portfolio Allocation**"
      ]
    },
    {
      "cell_type": "code",
      "metadata": {
        "id": "6zcQh8pr4H9v"
      },
      "source": [
        ""
      ],
      "execution_count": null,
      "outputs": []
    },
    {
      "cell_type": "markdown",
      "metadata": {
        "id": "fOuUcFWDrA-A"
      },
      "source": [
        "# **4. Model Generation**"
      ]
    },
    {
      "cell_type": "code",
      "metadata": {
        "id": "7_AJWZ8hXgXi"
      },
      "source": [
        "#Training and testing data for Machine Learning\n",
        "ES_X_train,ES_X_test, ES_y_train, ES_y_test = train_test_split(ES_dfU.drop('actual_signal',axis=1),ES_dfU['actual_signal'],test_size=0.3,random_state=1,shuffle=False)\n",
        "DM_X_train,DM_X_test, DM_y_train, DM_y_test = train_test_split(DM_dfU.drop('actual_signal',axis=1),DM_dfU['actual_signal'],test_size=0.3,random_state=1,shuffle=False)\n",
        "NQ_X_train,NQ_X_test, NQ_y_train, NQ_y_test = train_test_split(NQ_dfU.drop('actual_signal',axis=1),NQ_dfU['actual_signal'],test_size=0.3,random_state=1,shuffle=False)\n",
        "C_X_train,C_X_test, C_y_train, C_y_test = train_test_split(C_dfU.drop('actual_signal',axis=1),C_dfU['actual_signal'],test_size=0.3,random_state=1,shuffle=False)\n",
        "CO_X_train,CO_X_test, CO_y_train, CO_y_test = train_test_split(CO_dfU.drop('actual_signal',axis=1),CO_dfU['actual_signal'],test_size=0.3,random_state=1,shuffle=False)\n",
        "CL_X_train,CL_X_test, CL_y_train, CL_y_test = train_test_split(CL_dfU.drop('actual_signal',axis=1),CL_dfU['actual_signal'],test_size=0.3,random_state=1,shuffle=False)\n",
        "W_X_train,W_X_test, W_y_train, W_y_test = train_test_split(W_dfU.drop('actual_signal',axis=1),W_dfU['actual_signal'],test_size=0.3,random_state=1,shuffle=False)\n",
        "S_X_train,S_X_test, S_y_train, S_y_test = train_test_split(S_dfU.drop('actual_signal',axis=1),S_dfU['actual_signal'],test_size=0.3,random_state=1,shuffle=False)"
      ],
      "execution_count": null,
      "outputs": []
    },
    {
      "cell_type": "code",
      "metadata": {
        "id": "cGu51OrZTdDE"
      },
      "source": [
        "models = [] #Models list\n",
        "#Straight away Advanced ML Models \n",
        "models.append(('XGB',xgb.XGBClassifier(max_depth=2,n_estimators=25)))\n",
        "models.append(('RF', RandomForestClassifier(max_depth=2,n_estimators=25)))\n",
        "models1 = [] #Models list\n",
        "#Straight away Advanced ML Models \n",
        "models1.append(('XGB',xgb.XGBClassifier(max_depth=2,n_estimators=25)))\n",
        "models1.append(('RF', RandomForestClassifier(max_depth=2,n_estimators=25)))\n",
        "models2 = [] #Models list\n",
        "#Straight away Advanced ML Models \n",
        "models2.append(('XGB',xgb.XGBClassifier(max_depth=2,n_estimators=25)))\n",
        "models2.append(('RF', RandomForestClassifier(max_depth=2,n_estimators=25)))\n"
      ],
      "execution_count": null,
      "outputs": []
    },
    {
      "cell_type": "code",
      "metadata": {
        "id": "ZSV23WDlmZ4E",
        "colab": {
          "base_uri": "https://localhost:8080/"
        },
        "outputId": "fc48d9b0-1f48-4829-c857-03c0c6e43585"
      },
      "source": [
        "ES_X_train[['MOM240','CARRY240','OI5']]\n",
        "DM_X_train[['MOM240','CARRY240','OI5']]\n",
        "NQ_X_train[['MOM240','CARRY240','OI5']]\n",
        "ES_X_test[['MOM240','CARRY240','OI5']]\n",
        "DM_X_test[['MOM240','CARRY240','OI5']]\n",
        "NQ_X_test[['MOM240','CARRY240','OI5']].head(1)\n",
        "ES_y_train.head(3)"
      ],
      "execution_count": null,
      "outputs": [
        {
          "output_type": "execute_result",
          "data": {
            "text/plain": [
              "Dates\n",
              "2000-12-20 00:00:00-05:00    1\n",
              "2000-12-21 00:00:00-05:00    1\n",
              "2000-12-22 00:00:00-05:00   -1\n",
              "Name: actual_signal, dtype: int64"
            ]
          },
          "metadata": {
            "tags": []
          },
          "execution_count": 23
        }
      ]
    },
    {
      "cell_type": "markdown",
      "metadata": {
        "id": "vhWT80ePmMYl"
      },
      "source": [
        "## **Cross Validation in the Training Datasets**"
      ]
    },
    {
      "cell_type": "code",
      "metadata": {
        "id": "POjhzLlarKER",
        "colab": {
          "base_uri": "https://localhost:8080/"
        },
        "outputId": "57123c15-1191-444b-8ee0-df94d6ed22a1"
      },
      "source": [
        "## Initialize the KFold parameters ES\n",
        "kfold = KFold(n_splits=5, random_state=7)\n",
        "# Perform K-Fold Cross Validation\n",
        "results = cross_val_score(models[0][1], ES_X_train[['MOM240','CARRY240','OI5']], ES_y_train, cv=kfold) #models[1][1] for RF\n",
        "# Print the average results\n",
        "print(\"Accuracy: %.2f%% (%.2f%%)\" % (results.mean()*100, results.std()*100))"
      ],
      "execution_count": null,
      "outputs": [
        {
          "output_type": "stream",
          "text": [
            "Accuracy: 50.72% (2.37%)\n"
          ],
          "name": "stdout"
        }
      ]
    },
    {
      "cell_type": "code",
      "metadata": {
        "id": "QFUGo116qI7y",
        "colab": {
          "base_uri": "https://localhost:8080/"
        },
        "outputId": "0545348e-0cd0-41db-8e33-f29423016bcb"
      },
      "source": [
        "## Initialize the KFold parameters DM\n",
        "kfold = KFold(n_splits=5, random_state=7)\n",
        "# Perform K-Fold Cross Validation\n",
        "results = cross_val_score(models1[0][1], DM_X_train[['MOM240','CARRY240','OI5']], DM_y_train, cv=kfold) #models[1][1] for RF\n",
        "# Print the average results\n",
        "print(\"Accuracy: %.2f%% (%.2f%%)\" % (results.mean()*100, results.std()*100))"
      ],
      "execution_count": null,
      "outputs": [
        {
          "output_type": "stream",
          "text": [
            "Accuracy: 51.61% (1.66%)\n"
          ],
          "name": "stdout"
        }
      ]
    },
    {
      "cell_type": "code",
      "metadata": {
        "id": "jxPgFgC1qJIB",
        "colab": {
          "base_uri": "https://localhost:8080/"
        },
        "outputId": "251148dd-5df3-4298-b411-5d67b9d44018"
      },
      "source": [
        "## Initialize the KFold parameters NQ\n",
        "kfold = KFold(n_splits=5, random_state=7)\n",
        "# Perform K-Fold Cross Validation\n",
        "results = cross_val_score(models2[0][1], NQ_X_train[['MOM240','CARRY240','OI5']], NQ_y_train, cv=kfold) #models[1][1] for RF\n",
        "# Print the average results\n",
        "print(\"Accuracy: %.2f%% (%.2f%%)\" % (results.mean()*100, results.std()*100))"
      ],
      "execution_count": null,
      "outputs": [
        {
          "output_type": "stream",
          "text": [
            "Accuracy: 51.51% (1.31%)\n"
          ],
          "name": "stdout"
        }
      ]
    },
    {
      "cell_type": "code",
      "metadata": {
        "id": "sj_o_uDmmm_2",
        "colab": {
          "base_uri": "https://localhost:8080/",
          "height": 752
        },
        "outputId": "f4520e96-91f2-41b7-abbf-70b9be46e4f7"
      },
      "source": [
        "#train the model ES\n",
        "models[0][1].fit(ES_X_train[['MOM240','CARRY240','OI5']],ES_y_train)\n",
        "# Plot the top 7 features\n",
        "xgb.plot_importance(models[0][1], max_num_features=3)\n",
        "# Show the plot\n",
        "plt.show()"
      ],
      "execution_count": null,
      "outputs": [
        {
          "output_type": "error",
          "ename": "RuntimeError",
          "evalue": "ignored",
          "traceback": [
            "\u001b[0;31m---------------------------------------------------------------------------\u001b[0m",
            "\u001b[0;31mRuntimeError\u001b[0m                              Traceback (most recent call last)",
            "\u001b[0;32m/usr/local/lib/python3.7/dist-packages/IPython/core/formatters.py\u001b[0m in \u001b[0;36m__call__\u001b[0;34m(self, obj)\u001b[0m\n\u001b[1;32m    336\u001b[0m             \u001b[0mmethod\u001b[0m \u001b[0;34m=\u001b[0m \u001b[0mget_real_method\u001b[0m\u001b[0;34m(\u001b[0m\u001b[0mobj\u001b[0m\u001b[0;34m,\u001b[0m \u001b[0mself\u001b[0m\u001b[0;34m.\u001b[0m\u001b[0mprint_method\u001b[0m\u001b[0;34m)\u001b[0m\u001b[0;34m\u001b[0m\u001b[0;34m\u001b[0m\u001b[0m\n\u001b[1;32m    337\u001b[0m             \u001b[0;32mif\u001b[0m \u001b[0mmethod\u001b[0m \u001b[0;32mis\u001b[0m \u001b[0;32mnot\u001b[0m \u001b[0;32mNone\u001b[0m\u001b[0;34m:\u001b[0m\u001b[0;34m\u001b[0m\u001b[0;34m\u001b[0m\u001b[0m\n\u001b[0;32m--> 338\u001b[0;31m                 \u001b[0;32mreturn\u001b[0m \u001b[0mmethod\u001b[0m\u001b[0;34m(\u001b[0m\u001b[0;34m)\u001b[0m\u001b[0;34m\u001b[0m\u001b[0;34m\u001b[0m\u001b[0m\n\u001b[0m\u001b[1;32m    339\u001b[0m             \u001b[0;32mreturn\u001b[0m \u001b[0;32mNone\u001b[0m\u001b[0;34m\u001b[0m\u001b[0;34m\u001b[0m\u001b[0m\n\u001b[1;32m    340\u001b[0m         \u001b[0;32melse\u001b[0m\u001b[0;34m:\u001b[0m\u001b[0;34m\u001b[0m\u001b[0;34m\u001b[0m\u001b[0m\n",
            "\u001b[0;32m/usr/local/lib/python3.7/dist-packages/matplotlib/figure.py\u001b[0m in \u001b[0;36m_repr_html_\u001b[0;34m(self)\u001b[0m\n\u001b[1;32m    402\u001b[0m         \u001b[0;32mif\u001b[0m \u001b[0;34m'WebAgg'\u001b[0m \u001b[0;32min\u001b[0m \u001b[0mtype\u001b[0m\u001b[0;34m(\u001b[0m\u001b[0mself\u001b[0m\u001b[0;34m.\u001b[0m\u001b[0mcanvas\u001b[0m\u001b[0;34m)\u001b[0m\u001b[0;34m.\u001b[0m\u001b[0m__name__\u001b[0m\u001b[0;34m:\u001b[0m\u001b[0;34m\u001b[0m\u001b[0;34m\u001b[0m\u001b[0m\n\u001b[1;32m    403\u001b[0m             \u001b[0;32mfrom\u001b[0m \u001b[0mmatplotlib\u001b[0m\u001b[0;34m.\u001b[0m\u001b[0mbackends\u001b[0m \u001b[0;32mimport\u001b[0m \u001b[0mbackend_webagg\u001b[0m\u001b[0;34m\u001b[0m\u001b[0;34m\u001b[0m\u001b[0m\n\u001b[0;32m--> 404\u001b[0;31m             \u001b[0;32mreturn\u001b[0m \u001b[0mbackend_webagg\u001b[0m\u001b[0;34m.\u001b[0m\u001b[0mipython_inline_display\u001b[0m\u001b[0;34m(\u001b[0m\u001b[0mself\u001b[0m\u001b[0;34m)\u001b[0m\u001b[0;34m\u001b[0m\u001b[0;34m\u001b[0m\u001b[0m\n\u001b[0m\u001b[1;32m    405\u001b[0m \u001b[0;34m\u001b[0m\u001b[0m\n\u001b[1;32m    406\u001b[0m     \u001b[0;32mdef\u001b[0m \u001b[0mshow\u001b[0m\u001b[0;34m(\u001b[0m\u001b[0mself\u001b[0m\u001b[0;34m,\u001b[0m \u001b[0mwarn\u001b[0m\u001b[0;34m=\u001b[0m\u001b[0;32mTrue\u001b[0m\u001b[0;34m)\u001b[0m\u001b[0;34m:\u001b[0m\u001b[0;34m\u001b[0m\u001b[0;34m\u001b[0m\u001b[0m\n",
            "\u001b[0;32m/usr/local/lib/python3.7/dist-packages/matplotlib/backends/backend_webagg.py\u001b[0m in \u001b[0;36mipython_inline_display\u001b[0;34m(figure)\u001b[0m\n\u001b[1;32m    284\u001b[0m     \u001b[0mWebAggApplication\u001b[0m\u001b[0;34m.\u001b[0m\u001b[0minitialize\u001b[0m\u001b[0;34m(\u001b[0m\u001b[0;34m)\u001b[0m\u001b[0;34m\u001b[0m\u001b[0;34m\u001b[0m\u001b[0m\n\u001b[1;32m    285\u001b[0m     \u001b[0;32mif\u001b[0m \u001b[0;32mnot\u001b[0m \u001b[0mwebagg_server_thread\u001b[0m\u001b[0;34m.\u001b[0m\u001b[0mis_alive\u001b[0m\u001b[0;34m(\u001b[0m\u001b[0;34m)\u001b[0m\u001b[0;34m:\u001b[0m\u001b[0;34m\u001b[0m\u001b[0;34m\u001b[0m\u001b[0m\n\u001b[0;32m--> 286\u001b[0;31m         \u001b[0mwebagg_server_thread\u001b[0m\u001b[0;34m.\u001b[0m\u001b[0mstart\u001b[0m\u001b[0;34m(\u001b[0m\u001b[0;34m)\u001b[0m\u001b[0;34m\u001b[0m\u001b[0;34m\u001b[0m\u001b[0m\n\u001b[0m\u001b[1;32m    287\u001b[0m \u001b[0;34m\u001b[0m\u001b[0m\n\u001b[1;32m    288\u001b[0m     \u001b[0mfignum\u001b[0m \u001b[0;34m=\u001b[0m \u001b[0mfigure\u001b[0m\u001b[0;34m.\u001b[0m\u001b[0mnumber\u001b[0m\u001b[0;34m\u001b[0m\u001b[0;34m\u001b[0m\u001b[0m\n",
            "\u001b[0;32m/usr/lib/python3.7/threading.py\u001b[0m in \u001b[0;36mstart\u001b[0;34m(self)\u001b[0m\n\u001b[1;32m    846\u001b[0m \u001b[0;34m\u001b[0m\u001b[0m\n\u001b[1;32m    847\u001b[0m         \u001b[0;32mif\u001b[0m \u001b[0mself\u001b[0m\u001b[0;34m.\u001b[0m\u001b[0m_started\u001b[0m\u001b[0;34m.\u001b[0m\u001b[0mis_set\u001b[0m\u001b[0;34m(\u001b[0m\u001b[0;34m)\u001b[0m\u001b[0;34m:\u001b[0m\u001b[0;34m\u001b[0m\u001b[0;34m\u001b[0m\u001b[0m\n\u001b[0;32m--> 848\u001b[0;31m             \u001b[0;32mraise\u001b[0m \u001b[0mRuntimeError\u001b[0m\u001b[0;34m(\u001b[0m\u001b[0;34m\"threads can only be started once\"\u001b[0m\u001b[0;34m)\u001b[0m\u001b[0;34m\u001b[0m\u001b[0;34m\u001b[0m\u001b[0m\n\u001b[0m\u001b[1;32m    849\u001b[0m         \u001b[0;32mwith\u001b[0m \u001b[0m_active_limbo_lock\u001b[0m\u001b[0;34m:\u001b[0m\u001b[0;34m\u001b[0m\u001b[0;34m\u001b[0m\u001b[0m\n\u001b[1;32m    850\u001b[0m             \u001b[0m_limbo\u001b[0m\u001b[0;34m[\u001b[0m\u001b[0mself\u001b[0m\u001b[0;34m]\u001b[0m \u001b[0;34m=\u001b[0m \u001b[0mself\u001b[0m\u001b[0;34m\u001b[0m\u001b[0;34m\u001b[0m\u001b[0m\n",
            "\u001b[0;31mRuntimeError\u001b[0m: threads can only be started once"
          ]
        },
        {
          "output_type": "display_data",
          "data": {
            "image/png": "[encoded data removed]",
            "text/plain": [
              "<Figure size 432x288 with 1 Axes>"
            ]
          },
          "metadata": {
            "tags": []
          }
        }
      ]
    },
    {
      "cell_type": "code",
      "metadata": {
        "colab": {
          "base_uri": "https://localhost:8080/",
          "height": 752
        },
        "id": "8xd993HFxXLG",
        "outputId": "4989d881-cded-4858-ae45-1c4ef7805638"
      },
      "source": [
        "#train the model DM \n",
        "models1[0][1].fit(DM_X_train[['MOM240','CARRY240','OI5']],DM_y_train)\n",
        "# Plot the top 7 features\n",
        "# Plot the top 7 features\n",
        "xgb.plot_importance(models1[0][1], max_num_features=3)\n",
        "# Show the plot\n",
        "plt.show()"
      ],
      "execution_count": null,
      "outputs": [
        {
          "output_type": "error",
          "ename": "RuntimeError",
          "evalue": "ignored",
          "traceback": [
            "\u001b[0;31m---------------------------------------------------------------------------\u001b[0m",
            "\u001b[0;31mRuntimeError\u001b[0m                              Traceback (most recent call last)",
            "\u001b[0;32m/usr/local/lib/python3.7/dist-packages/IPython/core/formatters.py\u001b[0m in \u001b[0;36m__call__\u001b[0;34m(self, obj)\u001b[0m\n\u001b[1;32m    336\u001b[0m             \u001b[0mmethod\u001b[0m \u001b[0;34m=\u001b[0m \u001b[0mget_real_method\u001b[0m\u001b[0;34m(\u001b[0m\u001b[0mobj\u001b[0m\u001b[0;34m,\u001b[0m \u001b[0mself\u001b[0m\u001b[0;34m.\u001b[0m\u001b[0mprint_method\u001b[0m\u001b[0;34m)\u001b[0m\u001b[0;34m\u001b[0m\u001b[0;34m\u001b[0m\u001b[0m\n\u001b[1;32m    337\u001b[0m             \u001b[0;32mif\u001b[0m \u001b[0mmethod\u001b[0m \u001b[0;32mis\u001b[0m \u001b[0;32mnot\u001b[0m \u001b[0;32mNone\u001b[0m\u001b[0;34m:\u001b[0m\u001b[0;34m\u001b[0m\u001b[0;34m\u001b[0m\u001b[0m\n\u001b[0;32m--> 338\u001b[0;31m                 \u001b[0;32mreturn\u001b[0m \u001b[0mmethod\u001b[0m\u001b[0;34m(\u001b[0m\u001b[0;34m)\u001b[0m\u001b[0;34m\u001b[0m\u001b[0;34m\u001b[0m\u001b[0m\n\u001b[0m\u001b[1;32m    339\u001b[0m             \u001b[0;32mreturn\u001b[0m \u001b[0;32mNone\u001b[0m\u001b[0;34m\u001b[0m\u001b[0;34m\u001b[0m\u001b[0m\n\u001b[1;32m    340\u001b[0m         \u001b[0;32melse\u001b[0m\u001b[0;34m:\u001b[0m\u001b[0;34m\u001b[0m\u001b[0;34m\u001b[0m\u001b[0m\n",
            "\u001b[0;32m/usr/local/lib/python3.7/dist-packages/matplotlib/figure.py\u001b[0m in \u001b[0;36m_repr_html_\u001b[0;34m(self)\u001b[0m\n\u001b[1;32m    402\u001b[0m         \u001b[0;32mif\u001b[0m \u001b[0;34m'WebAgg'\u001b[0m \u001b[0;32min\u001b[0m \u001b[0mtype\u001b[0m\u001b[0;34m(\u001b[0m\u001b[0mself\u001b[0m\u001b[0;34m.\u001b[0m\u001b[0mcanvas\u001b[0m\u001b[0;34m)\u001b[0m\u001b[0;34m.\u001b[0m\u001b[0m__name__\u001b[0m\u001b[0;34m:\u001b[0m\u001b[0;34m\u001b[0m\u001b[0;34m\u001b[0m\u001b[0m\n\u001b[1;32m    403\u001b[0m             \u001b[0;32mfrom\u001b[0m \u001b[0mmatplotlib\u001b[0m\u001b[0;34m.\u001b[0m\u001b[0mbackends\u001b[0m \u001b[0;32mimport\u001b[0m \u001b[0mbackend_webagg\u001b[0m\u001b[0;34m\u001b[0m\u001b[0;34m\u001b[0m\u001b[0m\n\u001b[0;32m--> 404\u001b[0;31m             \u001b[0;32mreturn\u001b[0m \u001b[0mbackend_webagg\u001b[0m\u001b[0;34m.\u001b[0m\u001b[0mipython_inline_display\u001b[0m\u001b[0;34m(\u001b[0m\u001b[0mself\u001b[0m\u001b[0;34m)\u001b[0m\u001b[0;34m\u001b[0m\u001b[0;34m\u001b[0m\u001b[0m\n\u001b[0m\u001b[1;32m    405\u001b[0m \u001b[0;34m\u001b[0m\u001b[0m\n\u001b[1;32m    406\u001b[0m     \u001b[0;32mdef\u001b[0m \u001b[0mshow\u001b[0m\u001b[0;34m(\u001b[0m\u001b[0mself\u001b[0m\u001b[0;34m,\u001b[0m \u001b[0mwarn\u001b[0m\u001b[0;34m=\u001b[0m\u001b[0;32mTrue\u001b[0m\u001b[0;34m)\u001b[0m\u001b[0;34m:\u001b[0m\u001b[0;34m\u001b[0m\u001b[0;34m\u001b[0m\u001b[0m\n",
            "\u001b[0;32m/usr/local/lib/python3.7/dist-packages/matplotlib/backends/backend_webagg.py\u001b[0m in \u001b[0;36mipython_inline_display\u001b[0;34m(figure)\u001b[0m\n\u001b[1;32m    284\u001b[0m     \u001b[0mWebAggApplication\u001b[0m\u001b[0;34m.\u001b[0m\u001b[0minitialize\u001b[0m\u001b[0;34m(\u001b[0m\u001b[0;34m)\u001b[0m\u001b[0;34m\u001b[0m\u001b[0;34m\u001b[0m\u001b[0m\n\u001b[1;32m    285\u001b[0m     \u001b[0;32mif\u001b[0m \u001b[0;32mnot\u001b[0m \u001b[0mwebagg_server_thread\u001b[0m\u001b[0;34m.\u001b[0m\u001b[0mis_alive\u001b[0m\u001b[0;34m(\u001b[0m\u001b[0;34m)\u001b[0m\u001b[0;34m:\u001b[0m\u001b[0;34m\u001b[0m\u001b[0;34m\u001b[0m\u001b[0m\n\u001b[0;32m--> 286\u001b[0;31m         \u001b[0mwebagg_server_thread\u001b[0m\u001b[0;34m.\u001b[0m\u001b[0mstart\u001b[0m\u001b[0;34m(\u001b[0m\u001b[0;34m)\u001b[0m\u001b[0;34m\u001b[0m\u001b[0;34m\u001b[0m\u001b[0m\n\u001b[0m\u001b[1;32m    287\u001b[0m \u001b[0;34m\u001b[0m\u001b[0m\n\u001b[1;32m    288\u001b[0m     \u001b[0mfignum\u001b[0m \u001b[0;34m=\u001b[0m \u001b[0mfigure\u001b[0m\u001b[0;34m.\u001b[0m\u001b[0mnumber\u001b[0m\u001b[0;34m\u001b[0m\u001b[0;34m\u001b[0m\u001b[0m\n",
            "\u001b[0;32m/usr/lib/python3.7/threading.py\u001b[0m in \u001b[0;36mstart\u001b[0;34m(self)\u001b[0m\n\u001b[1;32m    846\u001b[0m \u001b[0;34m\u001b[0m\u001b[0m\n\u001b[1;32m    847\u001b[0m         \u001b[0;32mif\u001b[0m \u001b[0mself\u001b[0m\u001b[0;34m.\u001b[0m\u001b[0m_started\u001b[0m\u001b[0;34m.\u001b[0m\u001b[0mis_set\u001b[0m\u001b[0;34m(\u001b[0m\u001b[0;34m)\u001b[0m\u001b[0;34m:\u001b[0m\u001b[0;34m\u001b[0m\u001b[0;34m\u001b[0m\u001b[0m\n\u001b[0;32m--> 848\u001b[0;31m             \u001b[0;32mraise\u001b[0m \u001b[0mRuntimeError\u001b[0m\u001b[0;34m(\u001b[0m\u001b[0;34m\"threads can only be started once\"\u001b[0m\u001b[0;34m)\u001b[0m\u001b[0;34m\u001b[0m\u001b[0;34m\u001b[0m\u001b[0m\n\u001b[0m\u001b[1;32m    849\u001b[0m         \u001b[0;32mwith\u001b[0m \u001b[0m_active_limbo_lock\u001b[0m\u001b[0;34m:\u001b[0m\u001b[0;34m\u001b[0m\u001b[0;34m\u001b[0m\u001b[0m\n\u001b[1;32m    850\u001b[0m             \u001b[0m_limbo\u001b[0m\u001b[0;34m[\u001b[0m\u001b[0mself\u001b[0m\u001b[0;34m]\u001b[0m \u001b[0;34m=\u001b[0m \u001b[0mself\u001b[0m\u001b[0;34m\u001b[0m\u001b[0;34m\u001b[0m\u001b[0m\n",
            "\u001b[0;31mRuntimeError\u001b[0m: threads can only be started once"
          ]
        },
        {
          "output_type": "display_data",
          "data": {
            "image/png": "[encoded data removed]",
            "text/plain": [
              "<Figure size 432x288 with 1 Axes>"
            ]
          },
          "metadata": {
            "tags": []
          }
        }
      ]
    },
    {
      "cell_type": "code",
      "metadata": {
        "colab": {
          "base_uri": "https://localhost:8080/",
          "height": 752
        },
        "id": "VGCQkhTaxXhQ",
        "outputId": "3c41f922-bc5f-4675-a749-44d9aa1aaebd"
      },
      "source": [
        "#train the model NQ \n",
        "models2[0][1].fit(NQ_X_train[['MOM240','CARRY240','OI5']],NQ_y_train)\n",
        "# Plot the top 7 features\n",
        "xgb.plot_importance(models2[0][1], max_num_features=3)\n",
        "# Show the plot\n",
        "plt.show()"
      ],
      "execution_count": null,
      "outputs": [
        {
          "output_type": "error",
          "ename": "RuntimeError",
          "evalue": "ignored",
          "traceback": [
            "\u001b[0;31m---------------------------------------------------------------------------\u001b[0m",
            "\u001b[0;31mRuntimeError\u001b[0m                              Traceback (most recent call last)",
            "\u001b[0;32m/usr/local/lib/python3.7/dist-packages/IPython/core/formatters.py\u001b[0m in \u001b[0;36m__call__\u001b[0;34m(self, obj)\u001b[0m\n\u001b[1;32m    336\u001b[0m             \u001b[0mmethod\u001b[0m \u001b[0;34m=\u001b[0m \u001b[0mget_real_method\u001b[0m\u001b[0;34m(\u001b[0m\u001b[0mobj\u001b[0m\u001b[0;34m,\u001b[0m \u001b[0mself\u001b[0m\u001b[0;34m.\u001b[0m\u001b[0mprint_method\u001b[0m\u001b[0;34m)\u001b[0m\u001b[0;34m\u001b[0m\u001b[0;34m\u001b[0m\u001b[0m\n\u001b[1;32m    337\u001b[0m             \u001b[0;32mif\u001b[0m \u001b[0mmethod\u001b[0m \u001b[0;32mis\u001b[0m \u001b[0;32mnot\u001b[0m \u001b[0;32mNone\u001b[0m\u001b[0;34m:\u001b[0m\u001b[0;34m\u001b[0m\u001b[0;34m\u001b[0m\u001b[0m\n\u001b[0;32m--> 338\u001b[0;31m                 \u001b[0;32mreturn\u001b[0m \u001b[0mmethod\u001b[0m\u001b[0;34m(\u001b[0m\u001b[0;34m)\u001b[0m\u001b[0;34m\u001b[0m\u001b[0;34m\u001b[0m\u001b[0m\n\u001b[0m\u001b[1;32m    339\u001b[0m             \u001b[0;32mreturn\u001b[0m \u001b[0;32mNone\u001b[0m\u001b[0;34m\u001b[0m\u001b[0;34m\u001b[0m\u001b[0m\n\u001b[1;32m    340\u001b[0m         \u001b[0;32melse\u001b[0m\u001b[0;34m:\u001b[0m\u001b[0;34m\u001b[0m\u001b[0;34m\u001b[0m\u001b[0m\n",
            "\u001b[0;32m/usr/local/lib/python3.7/dist-packages/matplotlib/figure.py\u001b[0m in \u001b[0;36m_repr_html_\u001b[0;34m(self)\u001b[0m\n\u001b[1;32m    402\u001b[0m         \u001b[0;32mif\u001b[0m \u001b[0;34m'WebAgg'\u001b[0m \u001b[0;32min\u001b[0m \u001b[0mtype\u001b[0m\u001b[0;34m(\u001b[0m\u001b[0mself\u001b[0m\u001b[0;34m.\u001b[0m\u001b[0mcanvas\u001b[0m\u001b[0;34m)\u001b[0m\u001b[0;34m.\u001b[0m\u001b[0m__name__\u001b[0m\u001b[0;34m:\u001b[0m\u001b[0;34m\u001b[0m\u001b[0;34m\u001b[0m\u001b[0m\n\u001b[1;32m    403\u001b[0m             \u001b[0;32mfrom\u001b[0m \u001b[0mmatplotlib\u001b[0m\u001b[0;34m.\u001b[0m\u001b[0mbackends\u001b[0m \u001b[0;32mimport\u001b[0m \u001b[0mbackend_webagg\u001b[0m\u001b[0;34m\u001b[0m\u001b[0;34m\u001b[0m\u001b[0m\n\u001b[0;32m--> 404\u001b[0;31m             \u001b[0;32mreturn\u001b[0m \u001b[0mbackend_webagg\u001b[0m\u001b[0;34m.\u001b[0m\u001b[0mipython_inline_display\u001b[0m\u001b[0;34m(\u001b[0m\u001b[0mself\u001b[0m\u001b[0;34m)\u001b[0m\u001b[0;34m\u001b[0m\u001b[0;34m\u001b[0m\u001b[0m\n\u001b[0m\u001b[1;32m    405\u001b[0m \u001b[0;34m\u001b[0m\u001b[0m\n\u001b[1;32m    406\u001b[0m     \u001b[0;32mdef\u001b[0m \u001b[0mshow\u001b[0m\u001b[0;34m(\u001b[0m\u001b[0mself\u001b[0m\u001b[0;34m,\u001b[0m \u001b[0mwarn\u001b[0m\u001b[0;34m=\u001b[0m\u001b[0;32mTrue\u001b[0m\u001b[0;34m)\u001b[0m\u001b[0;34m:\u001b[0m\u001b[0;34m\u001b[0m\u001b[0;34m\u001b[0m\u001b[0m\n",
            "\u001b[0;32m/usr/local/lib/python3.7/dist-packages/matplotlib/backends/backend_webagg.py\u001b[0m in \u001b[0;36mipython_inline_display\u001b[0;34m(figure)\u001b[0m\n\u001b[1;32m    284\u001b[0m     \u001b[0mWebAggApplication\u001b[0m\u001b[0;34m.\u001b[0m\u001b[0minitialize\u001b[0m\u001b[0;34m(\u001b[0m\u001b[0;34m)\u001b[0m\u001b[0;34m\u001b[0m\u001b[0;34m\u001b[0m\u001b[0m\n\u001b[1;32m    285\u001b[0m     \u001b[0;32mif\u001b[0m \u001b[0;32mnot\u001b[0m \u001b[0mwebagg_server_thread\u001b[0m\u001b[0;34m.\u001b[0m\u001b[0mis_alive\u001b[0m\u001b[0;34m(\u001b[0m\u001b[0;34m)\u001b[0m\u001b[0;34m:\u001b[0m\u001b[0;34m\u001b[0m\u001b[0;34m\u001b[0m\u001b[0m\n\u001b[0;32m--> 286\u001b[0;31m         \u001b[0mwebagg_server_thread\u001b[0m\u001b[0;34m.\u001b[0m\u001b[0mstart\u001b[0m\u001b[0;34m(\u001b[0m\u001b[0;34m)\u001b[0m\u001b[0;34m\u001b[0m\u001b[0;34m\u001b[0m\u001b[0m\n\u001b[0m\u001b[1;32m    287\u001b[0m \u001b[0;34m\u001b[0m\u001b[0m\n\u001b[1;32m    288\u001b[0m     \u001b[0mfignum\u001b[0m \u001b[0;34m=\u001b[0m \u001b[0mfigure\u001b[0m\u001b[0;34m.\u001b[0m\u001b[0mnumber\u001b[0m\u001b[0;34m\u001b[0m\u001b[0;34m\u001b[0m\u001b[0m\n",
            "\u001b[0;32m/usr/lib/python3.7/threading.py\u001b[0m in \u001b[0;36mstart\u001b[0;34m(self)\u001b[0m\n\u001b[1;32m    846\u001b[0m \u001b[0;34m\u001b[0m\u001b[0m\n\u001b[1;32m    847\u001b[0m         \u001b[0;32mif\u001b[0m \u001b[0mself\u001b[0m\u001b[0;34m.\u001b[0m\u001b[0m_started\u001b[0m\u001b[0;34m.\u001b[0m\u001b[0mis_set\u001b[0m\u001b[0;34m(\u001b[0m\u001b[0;34m)\u001b[0m\u001b[0;34m:\u001b[0m\u001b[0;34m\u001b[0m\u001b[0;34m\u001b[0m\u001b[0m\n\u001b[0;32m--> 848\u001b[0;31m             \u001b[0;32mraise\u001b[0m \u001b[0mRuntimeError\u001b[0m\u001b[0;34m(\u001b[0m\u001b[0;34m\"threads can only be started once\"\u001b[0m\u001b[0;34m)\u001b[0m\u001b[0;34m\u001b[0m\u001b[0;34m\u001b[0m\u001b[0m\n\u001b[0m\u001b[1;32m    849\u001b[0m         \u001b[0;32mwith\u001b[0m \u001b[0m_active_limbo_lock\u001b[0m\u001b[0;34m:\u001b[0m\u001b[0;34m\u001b[0m\u001b[0;34m\u001b[0m\u001b[0m\n\u001b[1;32m    850\u001b[0m             \u001b[0m_limbo\u001b[0m\u001b[0;34m[\u001b[0m\u001b[0mself\u001b[0m\u001b[0;34m]\u001b[0m \u001b[0;34m=\u001b[0m \u001b[0mself\u001b[0m\u001b[0;34m\u001b[0m\u001b[0;34m\u001b[0m\u001b[0m\n",
            "\u001b[0;31mRuntimeError\u001b[0m: threads can only be started once"
          ]
        },
        {
          "output_type": "display_data",
          "data": {
            "image/png": "[encoded data removed]",
            "text/plain": [
              "<Figure size 432x288 with 1 Axes>"
            ]
          },
          "metadata": {
            "tags": []
          }
        }
      ]
    },
    {
      "cell_type": "markdown",
      "metadata": {
        "id": "WdyshnSL6qxA"
      },
      "source": [
        "## **Predicted Signal**"
      ]
    },
    {
      "cell_type": "code",
      "metadata": {
        "id": "_seZfYn_1AlV"
      },
      "source": [
        "ES_dfU['predicted_signal']=models[0][1].predict(ES_dfU[['MOM240','CARRY240','OI5']])\n",
        "DM_dfU['predicted_signal']=models1[0][1].predict(DM_dfU[['MOM240','CARRY240','OI5']])\n",
        "NQ_dfU['predicted_signal']=models2[0][1].predict(NQ_dfU[['MOM240','CARRY240','OI5']])\n"
      ],
      "execution_count": null,
      "outputs": []
    },
    {
      "cell_type": "code",
      "metadata": {
        "id": "3Ij9HBM2286B"
      },
      "source": [
        "ES_dfU['XGBOOST_ret']=ES_dfU['predicted_signal']*ES_dfU.return_next_day\n",
        "DM_dfU['XGBOOST_ret']=DM_dfU['predicted_signal']*DM_dfU.return_next_day\n",
        "NQ_dfU['XGBOOST_ret']=NQ_dfU['predicted_signal']*NQ_dfU.return_next_day\n"
      ],
      "execution_count": null,
      "outputs": []
    },
    {
      "cell_type": "code",
      "metadata": {
        "colab": {
          "base_uri": "https://localhost:8080/"
        },
        "id": "t-5M1xs7xyBW",
        "outputId": "cd73fa40-bd0b-4c98-9efb-735adb4d9675"
      },
      "source": [
        "# Predict the trading signal on test dataset\n",
        "y_pred = models1[0][1].predict(DM_X_test[['MOM240','CARRY240','OI5']])\n",
        "# Get the classification report\n",
        "print(classification_report(DM_y_test, y_pred))"
      ],
      "execution_count": null,
      "outputs": [
        {
          "output_type": "stream",
          "text": [
            "              precision    recall  f1-score   support\n",
            "\n",
            "          -1       0.48      0.47      0.47       591\n",
            "           1       0.55      0.56      0.56       686\n",
            "\n",
            "    accuracy                           0.52      1277\n",
            "   macro avg       0.52      0.51      0.51      1277\n",
            "weighted avg       0.52      0.52      0.52      1277\n",
            "\n"
          ],
          "name": "stdout"
        }
      ]
    },
    {
      "cell_type": "code",
      "metadata": {
        "id": "8J6paz4_2obr"
      },
      "source": [
        ""
      ],
      "execution_count": null,
      "outputs": []
    },
    {
      "cell_type": "markdown",
      "metadata": {
        "id": "Ay5IIVj22pAR"
      },
      "source": [
        "## **Classification Report**"
      ]
    },
    {
      "cell_type": "code",
      "metadata": {
        "id": "nlTiS-G-66Yw"
      },
      "source": [
        "# Predict the trading signal on test dataset\n",
        "y_pred = models[0][1].predict(ES_X_test[['MOM240','CARRY240','OI5']])\n",
        "# Get the classification report\n",
        "print(classification_report(ES_y_test, y_pred))"
      ],
      "execution_count": null,
      "outputs": []
    },
    {
      "cell_type": "code",
      "metadata": {
        "id": "Av9Z7ZzG66oe"
      },
      "source": [
        "# Predict the trading signal on test dataset\n",
        "y_pred = models[0][1].predict(ES_X_test[['MOM240','CARRY240','OI5']])\n",
        "# Get the classification report\n",
        "print(classification_report(ES_y_test, y_pred))"
      ],
      "execution_count": null,
      "outputs": []
    },
    {
      "cell_type": "code",
      "metadata": {
        "colab": {
          "base_uri": "https://localhost:8080/"
        },
        "id": "ZzHUmmCsxyOE",
        "outputId": "0e0a025d-9369-4ed9-9386-fe5671f53f2d"
      },
      "source": [
        "# Predict the trading signal on test dataset\n",
        "y_pred = models[0][1].predict(ES_X_test[['MOM240','CARRY240','OI5']])\n",
        "# Get the classification report\n",
        "print(classification_report(ES_y_test, y_pred))"
      ],
      "execution_count": null,
      "outputs": [
        {
          "output_type": "stream",
          "text": [
            "              precision    recall  f1-score   support\n",
            "\n",
            "          -1       0.41      0.15      0.22       753\n",
            "           1       0.51      0.81      0.63       837\n",
            "\n",
            "    accuracy                           0.50      1590\n",
            "   macro avg       0.46      0.48      0.42      1590\n",
            "weighted avg       0.47      0.50      0.43      1590\n",
            "\n"
          ],
          "name": "stdout"
        }
      ]
    },
    {
      "cell_type": "code",
      "metadata": {
        "id": "JQSdFv7K3pov"
      },
      "source": [
        "#Confusion Matrix\n",
        "array = confusion_matrix(ES_y_test, y_pred)\n",
        "df = pd.DataFrame(array, index=['Short', 'Long'], columns=[\n",
        "'Short', 'Long'])\n",
        "plt.figure(figsize=(5, 4))\n",
        "sn.heatmap(df, annot=True, cmap='Greens', fmt='g')\n",
        "plt.xlabel('Predicted')\n",
        "plt.ylabel('Actual')\n",
        "plt.show()"
      ],
      "execution_count": null,
      "outputs": []
    },
    {
      "cell_type": "markdown",
      "metadata": {
        "id": "dQgO9_HSOdL4"
      },
      "source": [
        "# **5. Backtest**"
      ]
    },
    {
      "cell_type": "markdown",
      "metadata": {
        "id": "j-Vp9s0cnNeA"
      },
      "source": [
        "### **Individual Ret**"
      ]
    },
    {
      "cell_type": "code",
      "metadata": {
        "id": "UB1g6yRzXtnG"
      },
      "source": [
        "def individual_ret(df):  \n",
        "  plt.figure(figsize=(16,8))\n",
        "  (1+df['MOM240_ret']).cumprod().plot()\n",
        "  (1+df['CARRY240_ret']).cumprod().plot()\n",
        "  (1+df['OI5_ret']).cumprod().plot()\n",
        "  (1+df['OI_CARRY_MOM_ret']).cumprod().plot()\n",
        "  #(1+df['benchmark_ret']).cumprod().plot()\n",
        "  plt.legend()\n",
        "  plt.axvline('2015-01-01 00:00:00-05:00', 0, 1, label='Out of Sample |')\n",
        "  plt.title(df.columns[0][:2]+ \" Cumulative Return Strategy\") \n",
        "  plt.show()\n",
        "def ml_ret(df):  \n",
        "  plt.figure(figsize=(16,8))\n",
        "  (1+df['XGBOOST_ret']).cumprod().plot()\n",
        "  (1+df['benchmark_ret']).cumprod().plot()\n",
        "  plt.legend()\n",
        "  plt.axvline('2015-01-01 00:00:00-05:00', 0, 1, label='Out of Sample |')\n",
        "  plt.title(\" Global Equity XGBOOST Cumulative Return Strategy\") #df.columns[0][:2]+\n",
        "  plt.show()"
      ],
      "execution_count": null,
      "outputs": []
    },
    {
      "cell_type": "code",
      "metadata": {
        "id": "nxEkJRqaGGGq"
      },
      "source": [
        "f_list=[ES_dfU,DM_dfU,NQ_dfU,C_dfU,CO_dfU,CL_dfU,W_dfU,S_dfU]\n",
        "for i in f_list:\n",
        "  individual_ret(i)"
      ],
      "execution_count": null,
      "outputs": []
    },
    {
      "cell_type": "code",
      "metadata": {
        "id": "zyADNgIS8vk_"
      },
      "source": [
        "#Individual in Depth Statistics\n",
        "#for i in f_list:\n",
        " #print( i.columns[0][:2]+\" In Depth Statistics\")\n",
        " #pf.create_full_tear_sheet(i['MOM240_ret'],benchmark_rets=i['benchmark_ret'],live_start_date='2015-01-01') #For example\n",
        " #pf.create_full_tear_sheet(i['CARRY240_ret'],benchmark_rets=i['benchmark_ret'],live_start_date='2015-01-01') \n",
        " #pf.create_full_tear_sheet(i['OI5_ret'],benchmark_rets=i['benchmark_ret'],live_start_date='2015-01-01')\n",
        " #pf.create_full_tear_sheet(i['OI_CARRY_MOM_ret'],benchmark_rets=i['benchmark_ret'],live_start_date='2015-01-01')"
      ],
      "execution_count": null,
      "outputs": []
    },
    {
      "cell_type": "code",
      "metadata": {
        "id": "RM_Hpfk6XYCC"
      },
      "source": [
        "pf.create_full_tear_sheet(equity_ml['XGBOOST_ret'],benchmark_rets=equity_ml_total['benchmark_ret'],live_start_date='2015-01-01',slippage=0.01)"
      ],
      "execution_count": null,
      "outputs": []
    },
    {
      "cell_type": "markdown",
      "metadata": {
        "id": "M-pR9h_Kn5Zz"
      },
      "source": [
        "## **Portfolio Ret**"
      ]
    },
    {
      "cell_type": "code",
      "metadata": {
        "id": "fui1p9eOS4eO"
      },
      "source": [
        "#Global Strategy Return \n",
        "RTZ_equity=pd.DataFrame()\n",
        "RTZ_commodity=pd.DataFrame()\n",
        "RTZ_total=pd.DataFrame()\n",
        "RTZ_equity['MOM240_ret']=ES_dfU['MOM240_ret']+DM_dfU['MOM240_ret']+NQ_dfU['MOM240_ret']\n",
        "RTZ_equity['CARRY240_ret']=ES_dfU['CARRY240_ret']+DM_dfU['CARRY240_ret']+NQ_dfU['CARRY240_ret']\n",
        "RTZ_equity['OI5_ret']=ES_dfU['OI5_ret']+DM_dfU['OI5_ret']+NQ_dfU['OI5_ret']\n",
        "RTZ_equity['OI_CARRY_MOM_ret']=ES_dfU['OI_CARRY_MOM_ret']+DM_dfU['OI_CARRY_MOM_ret']+NQ_dfU['OI_CARRY_MOM_ret']\n",
        "RTZ_equity['benchmark_ret']=ES_dfU['benchmark_ret']+DM_dfU['benchmark_ret']+NQ_dfU['benchmark_ret']\n",
        "RTZ_commodity['MOM240_ret']=C_dfU['MOM240_ret']+CO_dfU['MOM240_ret']+CL_dfU['MOM240_ret']+W_dfU['MOM240_ret']+S_dfU['MOM240_ret']\n",
        "RTZ_commodity['CARRY240_ret']=C_dfU['CARRY240_ret']+CO_dfU['CARRY240_ret']+CL_dfU['CARRY240_ret']+W_dfU['CARRY240_ret']+S_dfU['CARRY240_ret']\n",
        "RTZ_commodity['OI5_ret']=C_dfU['OI5_ret']+CO_dfU['OI5_ret']+CL_dfU['OI5_ret']+W_dfU['OI5_ret']+S_dfU['OI5_ret']\n",
        "RTZ_commodity['OI_CARRY_MOM_ret']=C_dfU['OI_CARRY_MOM_ret']+CO_dfU['OI_CARRY_MOM_ret']+CL_dfU['OI_CARRY_MOM_ret']+W_dfU['OI_CARRY_MOM_ret']+S_dfU['OI_CARRY_MOM_ret']\n",
        "RTZ_commodity['benchmark_ret']=C_dfU['benchmark_ret']+CO_dfU['benchmark_ret']+CL_dfU['benchmark_ret']+W_dfU['benchmark_ret']+S_dfU['benchmark_ret']\n",
        "RTZ_total['MOM240_ret']=RTZ_equity['MOM240_ret']+RTZ_commodity['MOM240_ret']\n",
        "RTZ_total['CARRY240_ret']=RTZ_equity['CARRY240_ret']+RTZ_commodity['CARRY240_ret']\n",
        "RTZ_total['OI5_ret']=RTZ_equity['OI5_ret']+RTZ_commodity['OI5_ret']\n",
        "RTZ_total['OI_CARRY_MOM_ret']=RTZ_equity['OI_CARRY_MOM_ret']+RTZ_commodity['OI_CARRY_MOM_ret']\n",
        "RTZ_equity=RTZ_equity.dropna()\n",
        "RTZ_commodity=RTZ_commodity.dropna()\n",
        "RTZ_total=RTZ_total.dropna()"
      ],
      "execution_count": null,
      "outputs": []
    },
    {
      "cell_type": "code",
      "metadata": {
        "id": "ARxkUozFO10u"
      },
      "source": [
        "#Machine Learning Return Global Equity\n",
        "equity_ml_total=pd.DataFrame()\n",
        "equity_ml_total['XGBOOST_ret']=ES_dfU['XGBOOST_ret']+DM_dfU['XGBOOST_ret']+NQ_dfU['XGBOOST_ret']\n",
        "equity_ml_total['benchmark_ret']=ES_dfU['benchmark_ret']+DM_dfU['benchmark_ret']+NQ_dfU['benchmark_ret']\n",
        "equity_ml=equity_ml_total.dropna()\n",
        "#ml_ret(ES_dfU)\n",
        "#ml_ret(DM_dfU)\n",
        "#ml_ret(NQ_dfU)\n",
        "ml_ret(equity_ml)"
      ],
      "execution_count": null,
      "outputs": []
    }
  ]
}